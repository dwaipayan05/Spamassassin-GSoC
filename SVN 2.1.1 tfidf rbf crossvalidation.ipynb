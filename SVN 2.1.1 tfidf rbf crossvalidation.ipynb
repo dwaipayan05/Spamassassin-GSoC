{
 "cells": [
  {
   "cell_type": "code",
   "execution_count": 34,
   "metadata": {},
   "outputs": [],
   "source": [
    "import numpy as np\n",
    "import pandas as pd\n",
    "import matplotlib.pyplot as plt\n",
    "from collections import Counter\n",
    "from sklearn import feature_extraction, model_selection, naive_bayes, metrics, svm\n",
    "from IPython.display import Image\n",
    "from sklearn.feature_extraction.text import TfidfVectorizer\n",
    "from sklearn.model_selection import cross_val_score, GridSearchCV\n",
    "import warnings\n",
    "warnings.filterwarnings(\"ignore\")\n",
    "%matplotlib inline  "
   ]
  },
  {
   "cell_type": "markdown",
   "metadata": {},
   "source": [
    "## Dataset\n",
    "Pandas provide a .read_csv() function. the paramter engine='python' was needed here.\n",
    "We can see in the output that there are two columns \"text\" and \"spam\" "
   ]
  },
  {
   "cell_type": "code",
   "execution_count": 35,
   "metadata": {},
   "outputs": [
    {
     "name": "stdout",
     "output_type": "stream",
     "text": [
      "                                                   text  spam\n",
      "0     Subject: naturally irresistible your corporate...     1\n",
      "1     Subject: the stock trading gunslinger  fanny i...     1\n",
      "2     Subject: unbelievable new homes made easy  im ...     1\n",
      "3     Subject: 4 color printing special  request add...     1\n",
      "4     Subject: do not have money , get software cds ...     1\n",
      "5     Subject: great nnews  hello , welcome to medzo...     1\n",
      "6     Subject: here ' s a hot play in motion  homela...     1\n",
      "7     Subject: save your money buy getting this thin...     1\n",
      "8     Subject: undeliverable : home based business f...     1\n",
      "9     Subject: save your money buy getting this thin...     1\n",
      "10    Subject: las vegas high rise boom  las vegas i...     1\n",
      "11    Subject: save your money buy getting this thin...     1\n",
      "12    Subject: brighten those teeth  get your  teeth...     1\n",
      "13    Subject: wall street phenomenon reaps rewards ...     1\n",
      "14    Subject: fpa notice : ebay misrepresentation o...     1\n",
      "15    Subject: search engine position  be the very f...     1\n",
      "16    Subject: only our software is guaranteed 100 %...     1\n",
      "17    Subject: localized software , all languages av...     1\n",
      "18    Subject: security alert - confirm your nationa...     1\n",
      "19    Subject: 21 st century web specialists jrgbm  ...     1\n",
      "20    Subject: any med for your girl to be happy !  ...     1\n",
      "21    Subject: re : wearable electronics  hi my name...     1\n",
      "22    Subject: top - level logo and business identit...     1\n",
      "23    Subject: your trusted source for prescription ...     1\n",
      "24    Subject: rely on us for your online prescripti...     1\n",
      "25    Subject: guzzle like a fountain  spur m rocks ...     1\n",
      "26    Subject: are you losing ? the answer would ama...     1\n",
      "27    Subject: hi  how to save o improper n your med...     1\n",
      "28    Subject: 25 mg did thhe trick  ho receivable w...     1\n",
      "29    Subject: save your money buy getting this thin...     1\n",
      "...                                                 ...   ...\n",
      "5698  Subject: schedule and more . .  dr . kaminski ...     0\n",
      "5699  Subject: re : message from ken rice  vince :  ...     0\n",
      "5700  Subject: re : exploration data as the root of ...     0\n",
      "5701  Subject: rendez - vous reporter : sunday 3 rd ...     0\n",
      "5702  Subject: dr . michelle foss - energy institute...     0\n",
      "5703  Subject: rice / enron finance seminar series  ...     0\n",
      "5704  Subject: storage model security  stinson ,  i ...     0\n",
      "5705  Subject: re : meeting w kevin hannon  vince an...     0\n",
      "5706  Subject: e - mail and voicemail retention poli...     0\n",
      "5707  Subject: approval is overdue : access request ...     0\n",
      "5708  Subject: re : hi vince  hi jeff ,  no problem ...     0\n",
      "5709  Subject: agenda for larry thorne ' s presentat...     0\n",
      "5710  Subject: raptors  here is the most recent vers...     0\n",
      "5711  Subject: re : faculty lunch  alison ,  i recom...     0\n",
      "5712  Subject: 2 - survey / information email 5 - 7 ...     0\n",
      "5713  Subject: promotion  vince , i want to congratu...     0\n",
      "5714  Subject: re : petronas benchmarking visit  fyi...     0\n",
      "5715  Subject: request submitted : access request fo...     0\n",
      "5716  Subject: * special notification * aurora versi...     0\n",
      "5717  Subject: fwd : update  return - path :  receiv...     0\n",
      "5718  Subject: altos na gas model  kim , i know you ...     0\n",
      "5719  Subject: power market research  i came across ...     0\n",
      "5720  Subject: re : visit to houston  fyi  - - - - -...     0\n",
      "5721  Subject: ees risk management presentations for...     0\n",
      "5722  Subject: re : vacation  vince :  i just found ...     0\n",
      "5723  Subject: re : research and development charges...     0\n",
      "5724  Subject: re : receipts from visit  jim ,  than...     0\n",
      "5725  Subject: re : enron case study update  wow ! a...     0\n",
      "5726  Subject: re : interest  david ,  please , call...     0\n",
      "5727  Subject: news : aurora 5 . 2 update  aurora ve...     0\n",
      "\n",
      "[5728 rows x 2 columns]\n"
     ]
    }
   ],
   "source": [
    "data = pd.read_csv('/home/shreyansh/Downloads/emails.csv', encoding='latin-1', engine='python')\n",
    "data.head(n=10)\n",
    "print(data)"
   ]
  },
  {
   "cell_type": "markdown",
   "metadata": {},
   "source": [
    "f = TfidfVectorizer(stop_words = 'english')\n",
    "X = f.fit_transform(data[\"text\"])\n",
    "print(np.shape(X))\n",
    "print(X)"
   ]
  },
  {
   "cell_type": "code",
   "execution_count": 53,
   "metadata": {},
   "outputs": [
    {
     "name": "stdout",
     "output_type": "stream",
     "text": [
      "[ 800  900 1000 1100 1200]\n",
      "[0.3  0.32 0.34 0.36 0.38 0.4  0.42 0.44 0.46 0.48]\n",
      "[{'gamma': array([0.3 , 0.32, 0.34, 0.36, 0.38, 0.4 , 0.42, 0.44, 0.46, 0.48]), 'C': array([ 800,  900, 1000, 1100, 1200])}]\n"
     ]
    }
   ],
   "source": [
    "list_C = np.arange(800,1300,100)\n",
    "list_gamma = np.arange(0.3,0.5,0.02)\n",
    "parameters = [{'gamma': list_gamma,\n",
    "                     'C': list_C}]\n",
    "print(list_C)\n",
    "print(list_gamma)\n",
    "print(parameters)"
   ]
  },
  {
   "cell_type": "code",
   "execution_count": 54,
   "metadata": {},
   "outputs": [
    {
     "data": {
      "text/plain": [
       "{'C': 800, 'gamma': 0.4000000000000001}"
      ]
     },
     "execution_count": 54,
     "metadata": {},
     "output_type": "execute_result"
    }
   ],
   "source": [
    "svc = svm.SVC(kernel='rbf')\n",
    "gridsearch = GridSearchCV(svc, parameters, cv=5, scoring='precision', n_jobs=-1)\n",
    "gridsearch.fit(X,data['spam'])\n",
    "gridsearch.best_params_"
   ]
  },
  {
   "cell_type": "code",
   "execution_count": 55,
   "metadata": {},
   "outputs": [
    {
     "data": {
      "text/plain": [
       "0.9918705054819764"
      ]
     },
     "execution_count": 55,
     "metadata": {},
     "output_type": "execute_result"
    }
   ],
   "source": [
    "gridsearch.best_score_"
   ]
  },
  {
   "cell_type": "code",
   "execution_count": null,
   "metadata": {},
   "outputs": [],
   "source": []
  }
 ],
 "metadata": {
  "kernelspec": {
   "display_name": "Python 3",
   "language": "python",
   "name": "python3"
  },
  "language_info": {
   "codemirror_mode": {
    "name": "ipython",
    "version": 3
   },
   "file_extension": ".py",
   "mimetype": "text/x-python",
   "name": "python",
   "nbconvert_exporter": "python",
   "pygments_lexer": "ipython3",
   "version": "3.7.3"
  }
 },
 "nbformat": 4,
 "nbformat_minor": 2
}

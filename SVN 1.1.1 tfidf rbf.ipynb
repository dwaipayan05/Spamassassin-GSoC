{
 "cells": [
  {
   "cell_type": "code",
   "execution_count": 6,
   "metadata": {},
   "outputs": [],
   "source": [
    "import numpy as np\n",
    "import pandas as pd\n",
    "import matplotlib.pyplot as plt\n",
    "from collections import Counter\n",
    "from sklearn import feature_extraction, model_selection, naive_bayes, metrics, svm\n",
    "from IPython.display import Image\n",
    "from sklearn.feature_extraction.text import TfidfVectorizer\n",
    "import warnings\n",
    "warnings.filterwarnings(\"ignore\")\n",
    "%matplotlib inline  "
   ]
  },
  {
   "cell_type": "markdown",
   "metadata": {},
   "source": [
    "## Dataset\n",
    "Pandas provide a .read_csv() function. the paramter engine='python' was needed here.\n",
    "We can see in the output that there are two columns \"text\" and \"spam\" "
   ]
  },
  {
   "cell_type": "code",
   "execution_count": 7,
   "metadata": {},
   "outputs": [
    {
     "name": "stdout",
     "output_type": "stream",
     "text": [
      "                                                   text  spam\n",
      "0     Subject: naturally irresistible your corporate...     1\n",
      "1     Subject: the stock trading gunslinger  fanny i...     1\n",
      "2     Subject: unbelievable new homes made easy  im ...     1\n",
      "3     Subject: 4 color printing special  request add...     1\n",
      "4     Subject: do not have money , get software cds ...     1\n",
      "5     Subject: great nnews  hello , welcome to medzo...     1\n",
      "6     Subject: here ' s a hot play in motion  homela...     1\n",
      "7     Subject: save your money buy getting this thin...     1\n",
      "8     Subject: undeliverable : home based business f...     1\n",
      "9     Subject: save your money buy getting this thin...     1\n",
      "10    Subject: las vegas high rise boom  las vegas i...     1\n",
      "11    Subject: save your money buy getting this thin...     1\n",
      "12    Subject: brighten those teeth  get your  teeth...     1\n",
      "13    Subject: wall street phenomenon reaps rewards ...     1\n",
      "14    Subject: fpa notice : ebay misrepresentation o...     1\n",
      "15    Subject: search engine position  be the very f...     1\n",
      "16    Subject: only our software is guaranteed 100 %...     1\n",
      "17    Subject: localized software , all languages av...     1\n",
      "18    Subject: security alert - confirm your nationa...     1\n",
      "19    Subject: 21 st century web specialists jrgbm  ...     1\n",
      "20    Subject: any med for your girl to be happy !  ...     1\n",
      "21    Subject: re : wearable electronics  hi my name...     1\n",
      "22    Subject: top - level logo and business identit...     1\n",
      "23    Subject: your trusted source for prescription ...     1\n",
      "24    Subject: rely on us for your online prescripti...     1\n",
      "25    Subject: guzzle like a fountain  spur m rocks ...     1\n",
      "26    Subject: are you losing ? the answer would ama...     1\n",
      "27    Subject: hi  how to save o improper n your med...     1\n",
      "28    Subject: 25 mg did thhe trick  ho receivable w...     1\n",
      "29    Subject: save your money buy getting this thin...     1\n",
      "...                                                 ...   ...\n",
      "5698  Subject: schedule and more . .  dr . kaminski ...     0\n",
      "5699  Subject: re : message from ken rice  vince :  ...     0\n",
      "5700  Subject: re : exploration data as the root of ...     0\n",
      "5701  Subject: rendez - vous reporter : sunday 3 rd ...     0\n",
      "5702  Subject: dr . michelle foss - energy institute...     0\n",
      "5703  Subject: rice / enron finance seminar series  ...     0\n",
      "5704  Subject: storage model security  stinson ,  i ...     0\n",
      "5705  Subject: re : meeting w kevin hannon  vince an...     0\n",
      "5706  Subject: e - mail and voicemail retention poli...     0\n",
      "5707  Subject: approval is overdue : access request ...     0\n",
      "5708  Subject: re : hi vince  hi jeff ,  no problem ...     0\n",
      "5709  Subject: agenda for larry thorne ' s presentat...     0\n",
      "5710  Subject: raptors  here is the most recent vers...     0\n",
      "5711  Subject: re : faculty lunch  alison ,  i recom...     0\n",
      "5712  Subject: 2 - survey / information email 5 - 7 ...     0\n",
      "5713  Subject: promotion  vince , i want to congratu...     0\n",
      "5714  Subject: re : petronas benchmarking visit  fyi...     0\n",
      "5715  Subject: request submitted : access request fo...     0\n",
      "5716  Subject: * special notification * aurora versi...     0\n",
      "5717  Subject: fwd : update  return - path :  receiv...     0\n",
      "5718  Subject: altos na gas model  kim , i know you ...     0\n",
      "5719  Subject: power market research  i came across ...     0\n",
      "5720  Subject: re : visit to houston  fyi  - - - - -...     0\n",
      "5721  Subject: ees risk management presentations for...     0\n",
      "5722  Subject: re : vacation  vince :  i just found ...     0\n",
      "5723  Subject: re : research and development charges...     0\n",
      "5724  Subject: re : receipts from visit  jim ,  than...     0\n",
      "5725  Subject: re : enron case study update  wow ! a...     0\n",
      "5726  Subject: re : interest  david ,  please , call...     0\n",
      "5727  Subject: news : aurora 5 . 2 update  aurora ve...     0\n",
      "\n",
      "[5728 rows x 2 columns]\n"
     ]
    }
   ],
   "source": [
    "data = pd.read_csv('/home/shreyansh/Downloads/emails.csv', encoding='latin-1', engine='python')\n",
    "data.head(n=10)\n",
    "print(data)"
   ]
  },
  {
   "cell_type": "code",
   "execution_count": 22,
   "metadata": {},
   "outputs": [
    {
     "name": "stdout",
     "output_type": "stream",
     "text": [
      "(5728, 36996)\n",
      "  (0, 32145)\t0.01781272601181811\n",
      "  (0, 23219)\t0.12256415839423043\n",
      "  (0, 18705)\t0.1432830450797234\n",
      "  (0, 9986)\t0.07425233664021534\n",
      "  (0, 17562)\t0.09302659600058759\n",
      "  (0, 21006)\t0.11259587569184905\n",
      "  (0, 27817)\t0.06817457798935368\n",
      "  (0, 16546)\t0.07848771947213565\n",
      "  (0, 27941)\t0.11391594069511475\n",
      "  (0, 9223)\t0.16756208708238118\n",
      "  (0, 21520)\t0.11577281792556753\n",
      "  (0, 32408)\t0.12371376538846193\n",
      "  (0, 18103)\t0.04504514237999522\n",
      "  (0, 18751)\t0.13491099920740895\n",
      "  (0, 15964)\t0.1033087647302782\n",
      "  (0, 7986)\t0.11461456851250225\n",
      "  (0, 20818)\t0.265157481584021\n",
      "  (0, 32126)\t0.12371376538846193\n",
      "  (0, 31776)\t0.12256415839423043\n",
      "  (0, 24679)\t0.09199667182622404\n",
      "  (0, 35805)\t0.13645440111292698\n",
      "  (0, 21296)\t0.09831341956555792\n",
      "  (0, 32839)\t0.09815099793568317\n",
      "  (0, 12539)\t0.09281579204902306\n",
      "  (0, 26937)\t0.20113998716066434\n",
      "  :\t:\n",
      "  (5727, 24659)\t0.10273386204392845\n",
      "  (5727, 21490)\t0.04981665317903681\n",
      "  (5727, 5683)\t0.557612387822799\n",
      "  (5727, 30755)\t0.052872641241471056\n",
      "  (5727, 2807)\t0.17628435956876232\n",
      "  (5727, 13246)\t0.06339381188976886\n",
      "  (5727, 13036)\t0.060742067327068834\n",
      "  (5727, 17257)\t0.047836039041555416\n",
      "  (5727, 14028)\t0.05876145318958744\n",
      "  (5727, 20137)\t0.05374921274139076\n",
      "  (5727, 31635)\t0.057179963343861946\n",
      "  (5727, 13037)\t0.05586340669380742\n",
      "  (5727, 20329)\t0.067419639054327\n",
      "  (5727, 35066)\t0.057179963343861946\n",
      "  (5727, 8557)\t0.06339381188976886\n",
      "  (5727, 29914)\t0.06339381188976886\n",
      "  (5727, 13428)\t0.32576205385517276\n",
      "  (5727, 35964)\t0.06515241077103456\n",
      "  (5727, 943)\t0.13030482154206913\n",
      "  (5727, 2776)\t0.06515241077103456\n",
      "  (5727, 30109)\t0.07061511784505056\n",
      "  (5727, 17456)\t0.07061511784505056\n",
      "  (5727, 33710)\t0.07061511784505056\n",
      "  (5727, 10293)\t0.07061511784505056\n",
      "  (5727, 11304)\t0.07061511784505056\n"
     ]
    }
   ],
   "source": [
    "f = TfidfVectorizer(stop_words = 'english')\n",
    "X = f.fit_transform(data[\"text\"])\n",
    "print(np.shape(X))\n",
    "print(X)"
   ]
  },
  {
   "cell_type": "code",
   "execution_count": 15,
   "metadata": {},
   "outputs": [
    {
     "name": "stdout",
     "output_type": "stream",
     "text": [
      "[(3837, 36996), (1891, 36996)]\n"
     ]
    }
   ],
   "source": [
    "X_train, X_test, y_train, y_test = model_selection.train_test_split(X, data['spam'], test_size=0.33, random_state=42)\n",
    "print([np.shape(X_train), np.shape(X_test)])"
   ]
  },
  {
   "cell_type": "code",
   "execution_count": 16,
   "metadata": {},
   "outputs": [],
   "source": [
    "list_C = np.arange(500, 2000, 100) #100000\n",
    "score_train = np.zeros(len(list_C))\n",
    "score_test = np.zeros(len(list_C))\n",
    "recall_test = np.zeros(len(list_C))\n",
    "precision_test= np.zeros(len(list_C))\n",
    "count = 0\n",
    "for C in list_C:\n",
    "    svc = svm.SVC(C=C)\n",
    "    svc.fit(X_train, y_train)\n",
    "    score_train[count] = svc.score(X_train, y_train)\n",
    "    score_test[count]= svc.score(X_test, y_test)\n",
    "    recall_test[count] = metrics.recall_score(y_test, svc.predict(X_test))\n",
    "    precision_test[count] = metrics.precision_score(y_test, svc.predict(X_test))\n",
    "    count = count + 1 "
   ]
  },
  {
   "cell_type": "code",
   "execution_count": 17,
   "metadata": {},
   "outputs": [
    {
     "data": {
      "text/html": [
       "<div>\n",
       "<style scoped>\n",
       "    .dataframe tbody tr th:only-of-type {\n",
       "        vertical-align: middle;\n",
       "    }\n",
       "\n",
       "    .dataframe tbody tr th {\n",
       "        vertical-align: top;\n",
       "    }\n",
       "\n",
       "    .dataframe thead th {\n",
       "        text-align: right;\n",
       "    }\n",
       "</style>\n",
       "<table border=\"1\" class=\"dataframe\">\n",
       "  <thead>\n",
       "    <tr style=\"text-align: right;\">\n",
       "      <th></th>\n",
       "      <th>C</th>\n",
       "      <th>Train Accuracy</th>\n",
       "      <th>Test Accuracy</th>\n",
       "      <th>Test Recall</th>\n",
       "      <th>Test Precision</th>\n",
       "    </tr>\n",
       "  </thead>\n",
       "  <tbody>\n",
       "    <tr>\n",
       "      <th>0</th>\n",
       "      <td>500.0</td>\n",
       "      <td>0.771957</td>\n",
       "      <td>0.739820</td>\n",
       "      <td>0.002028</td>\n",
       "      <td>1.0</td>\n",
       "    </tr>\n",
       "    <tr>\n",
       "      <th>1</th>\n",
       "      <td>600.0</td>\n",
       "      <td>0.787594</td>\n",
       "      <td>0.754627</td>\n",
       "      <td>0.058824</td>\n",
       "      <td>1.0</td>\n",
       "    </tr>\n",
       "    <tr>\n",
       "      <th>2</th>\n",
       "      <td>700.0</td>\n",
       "      <td>0.816784</td>\n",
       "      <td>0.790058</td>\n",
       "      <td>0.194726</td>\n",
       "      <td>1.0</td>\n",
       "    </tr>\n",
       "    <tr>\n",
       "      <th>3</th>\n",
       "      <td>800.0</td>\n",
       "      <td>0.820172</td>\n",
       "      <td>0.792702</td>\n",
       "      <td>0.204868</td>\n",
       "      <td>1.0</td>\n",
       "    </tr>\n",
       "    <tr>\n",
       "      <th>4</th>\n",
       "      <td>900.0</td>\n",
       "      <td>0.829033</td>\n",
       "      <td>0.801163</td>\n",
       "      <td>0.237323</td>\n",
       "      <td>1.0</td>\n",
       "    </tr>\n",
       "    <tr>\n",
       "      <th>5</th>\n",
       "      <td>1000.0</td>\n",
       "      <td>0.840240</td>\n",
       "      <td>0.809096</td>\n",
       "      <td>0.267748</td>\n",
       "      <td>1.0</td>\n",
       "    </tr>\n",
       "    <tr>\n",
       "      <th>6</th>\n",
       "      <td>1100.0</td>\n",
       "      <td>0.849622</td>\n",
       "      <td>0.818614</td>\n",
       "      <td>0.304260</td>\n",
       "      <td>1.0</td>\n",
       "    </tr>\n",
       "    <tr>\n",
       "      <th>7</th>\n",
       "      <td>1200.0</td>\n",
       "      <td>0.864217</td>\n",
       "      <td>0.832364</td>\n",
       "      <td>0.356998</td>\n",
       "      <td>1.0</td>\n",
       "    </tr>\n",
       "    <tr>\n",
       "      <th>8</th>\n",
       "      <td>1300.0</td>\n",
       "      <td>0.876466</td>\n",
       "      <td>0.843469</td>\n",
       "      <td>0.399594</td>\n",
       "      <td>1.0</td>\n",
       "    </tr>\n",
       "    <tr>\n",
       "      <th>9</th>\n",
       "      <td>1400.0</td>\n",
       "      <td>0.888976</td>\n",
       "      <td>0.852988</td>\n",
       "      <td>0.436105</td>\n",
       "      <td>1.0</td>\n",
       "    </tr>\n",
       "  </tbody>\n",
       "</table>\n",
       "</div>"
      ],
      "text/plain": [
       "        C  Train Accuracy  Test Accuracy  Test Recall  Test Precision\n",
       "0   500.0        0.771957       0.739820     0.002028             1.0\n",
       "1   600.0        0.787594       0.754627     0.058824             1.0\n",
       "2   700.0        0.816784       0.790058     0.194726             1.0\n",
       "3   800.0        0.820172       0.792702     0.204868             1.0\n",
       "4   900.0        0.829033       0.801163     0.237323             1.0\n",
       "5  1000.0        0.840240       0.809096     0.267748             1.0\n",
       "6  1100.0        0.849622       0.818614     0.304260             1.0\n",
       "7  1200.0        0.864217       0.832364     0.356998             1.0\n",
       "8  1300.0        0.876466       0.843469     0.399594             1.0\n",
       "9  1400.0        0.888976       0.852988     0.436105             1.0"
      ]
     },
     "execution_count": 17,
     "metadata": {},
     "output_type": "execute_result"
    }
   ],
   "source": [
    "matrix = np.matrix(np.c_[list_C, score_train, score_test, recall_test, precision_test])\n",
    "models = pd.DataFrame(data = matrix, columns = \n",
    "             ['C', 'Train Accuracy', 'Test Accuracy', 'Test Recall', 'Test Precision'])\n",
    "models.head(n=10)"
   ]
  },
  {
   "cell_type": "code",
   "execution_count": 18,
   "metadata": {},
   "outputs": [
    {
     "data": {
      "text/plain": [
       "C                 500.000000\n",
       "Train Accuracy      0.771957\n",
       "Test Accuracy       0.739820\n",
       "Test Recall         0.002028\n",
       "Test Precision      1.000000\n",
       "Name: 0, dtype: float64"
      ]
     },
     "execution_count": 18,
     "metadata": {},
     "output_type": "execute_result"
    }
   ],
   "source": [
    "best_index = models['Test Precision'].idxmax()\n",
    "models.iloc[best_index, :]"
   ]
  },
  {
   "cell_type": "code",
   "execution_count": 19,
   "metadata": {},
   "outputs": [
    {
     "data": {
      "text/html": [
       "<div>\n",
       "<style scoped>\n",
       "    .dataframe tbody tr th:only-of-type {\n",
       "        vertical-align: middle;\n",
       "    }\n",
       "\n",
       "    .dataframe tbody tr th {\n",
       "        vertical-align: top;\n",
       "    }\n",
       "\n",
       "    .dataframe thead th {\n",
       "        text-align: right;\n",
       "    }\n",
       "</style>\n",
       "<table border=\"1\" class=\"dataframe\">\n",
       "  <thead>\n",
       "    <tr style=\"text-align: right;\">\n",
       "      <th></th>\n",
       "      <th>C</th>\n",
       "      <th>Train Accuracy</th>\n",
       "      <th>Test Accuracy</th>\n",
       "      <th>Test Recall</th>\n",
       "      <th>Test Precision</th>\n",
       "    </tr>\n",
       "  </thead>\n",
       "  <tbody>\n",
       "    <tr>\n",
       "      <th>0</th>\n",
       "      <td>500.0</td>\n",
       "      <td>0.771957</td>\n",
       "      <td>0.739820</td>\n",
       "      <td>0.002028</td>\n",
       "      <td>1.0</td>\n",
       "    </tr>\n",
       "    <tr>\n",
       "      <th>1</th>\n",
       "      <td>600.0</td>\n",
       "      <td>0.787594</td>\n",
       "      <td>0.754627</td>\n",
       "      <td>0.058824</td>\n",
       "      <td>1.0</td>\n",
       "    </tr>\n",
       "    <tr>\n",
       "      <th>2</th>\n",
       "      <td>700.0</td>\n",
       "      <td>0.816784</td>\n",
       "      <td>0.790058</td>\n",
       "      <td>0.194726</td>\n",
       "      <td>1.0</td>\n",
       "    </tr>\n",
       "    <tr>\n",
       "      <th>3</th>\n",
       "      <td>800.0</td>\n",
       "      <td>0.820172</td>\n",
       "      <td>0.792702</td>\n",
       "      <td>0.204868</td>\n",
       "      <td>1.0</td>\n",
       "    </tr>\n",
       "    <tr>\n",
       "      <th>4</th>\n",
       "      <td>900.0</td>\n",
       "      <td>0.829033</td>\n",
       "      <td>0.801163</td>\n",
       "      <td>0.237323</td>\n",
       "      <td>1.0</td>\n",
       "    </tr>\n",
       "  </tbody>\n",
       "</table>\n",
       "</div>"
      ],
      "text/plain": [
       "       C  Train Accuracy  Test Accuracy  Test Recall  Test Precision\n",
       "0  500.0        0.771957       0.739820     0.002028             1.0\n",
       "1  600.0        0.787594       0.754627     0.058824             1.0\n",
       "2  700.0        0.816784       0.790058     0.194726             1.0\n",
       "3  800.0        0.820172       0.792702     0.204868             1.0\n",
       "4  900.0        0.829033       0.801163     0.237323             1.0"
      ]
     },
     "execution_count": 19,
     "metadata": {},
     "output_type": "execute_result"
    }
   ],
   "source": [
    "models[models['Test Precision']==1].head(n=5)"
   ]
  },
  {
   "cell_type": "code",
   "execution_count": 20,
   "metadata": {},
   "outputs": [
    {
     "data": {
      "text/plain": [
       "C                 1700.000000\n",
       "Train Accuracy       0.925463\n",
       "Test Accuracy        0.879958\n",
       "Test Recall          0.539554\n",
       "Test Precision       1.000000\n",
       "Name: 12, dtype: float64"
      ]
     },
     "execution_count": 20,
     "metadata": {},
     "output_type": "execute_result"
    }
   ],
   "source": [
    "best_index = models[models['Test Precision']==1]['Test Accuracy'].idxmax()\n",
    "svc = svm.SVC(C=list_C[best_index])\n",
    "svc.fit(X_train, y_train)\n",
    "models.iloc[best_index, :]"
   ]
  },
  {
   "cell_type": "code",
   "execution_count": 21,
   "metadata": {},
   "outputs": [
    {
     "data": {
      "text/html": [
       "<div>\n",
       "<style scoped>\n",
       "    .dataframe tbody tr th:only-of-type {\n",
       "        vertical-align: middle;\n",
       "    }\n",
       "\n",
       "    .dataframe tbody tr th {\n",
       "        vertical-align: top;\n",
       "    }\n",
       "\n",
       "    .dataframe thead th {\n",
       "        text-align: right;\n",
       "    }\n",
       "</style>\n",
       "<table border=\"1\" class=\"dataframe\">\n",
       "  <thead>\n",
       "    <tr style=\"text-align: right;\">\n",
       "      <th></th>\n",
       "      <th>Predicted 0</th>\n",
       "      <th>Predicted 1</th>\n",
       "    </tr>\n",
       "  </thead>\n",
       "  <tbody>\n",
       "    <tr>\n",
       "      <th>Actual 0</th>\n",
       "      <td>1398</td>\n",
       "      <td>0</td>\n",
       "    </tr>\n",
       "    <tr>\n",
       "      <th>Actual 1</th>\n",
       "      <td>227</td>\n",
       "      <td>266</td>\n",
       "    </tr>\n",
       "  </tbody>\n",
       "</table>\n",
       "</div>"
      ],
      "text/plain": [
       "          Predicted 0  Predicted 1\n",
       "Actual 0         1398            0\n",
       "Actual 1          227          266"
      ]
     },
     "execution_count": 21,
     "metadata": {},
     "output_type": "execute_result"
    }
   ],
   "source": [
    "m_confusion_test = metrics.confusion_matrix(y_test, svc.predict(X_test))\n",
    "pd.DataFrame(data = m_confusion_test, columns = ['Predicted 0', 'Predicted 1'],\n",
    "            index = ['Actual 0', 'Actual 1'])"
   ]
  },
  {
   "cell_type": "code",
   "execution_count": null,
   "metadata": {},
   "outputs": [],
   "source": []
  }
 ],
 "metadata": {
  "kernelspec": {
   "display_name": "Python 3",
   "language": "python",
   "name": "python3"
  },
  "language_info": {
   "codemirror_mode": {
    "name": "ipython",
    "version": 3
   },
   "file_extension": ".py",
   "mimetype": "text/x-python",
   "name": "python",
   "nbconvert_exporter": "python",
   "pygments_lexer": "ipython3",
   "version": "3.7.3"
  }
 },
 "nbformat": 4,
 "nbformat_minor": 2
}
